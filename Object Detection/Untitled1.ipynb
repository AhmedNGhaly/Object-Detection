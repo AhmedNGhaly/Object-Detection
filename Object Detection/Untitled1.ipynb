{
 "cells": [
  {
   "cell_type": "code",
   "execution_count": 1,
   "id": "793bfdb5",
   "metadata": {
    "ExecuteTime": {
     "end_time": "2022-10-25T19:35:44.457721Z",
     "start_time": "2022-10-25T19:35:44.177849Z"
    }
   },
   "outputs": [],
   "source": [
    "import numpy as np\n",
    "import cv2"
   ]
  },
  {
   "cell_type": "code",
   "execution_count": 2,
   "id": "ef99b041",
   "metadata": {
    "ExecuteTime": {
     "end_time": "2022-10-25T19:35:45.290839Z",
     "start_time": "2022-10-25T19:35:44.973267Z"
    }
   },
   "outputs": [],
   "source": [
    "net = cv2.dnn.readNet(\"yolov3.weights\",\"yolov3.cfg\")"
   ]
  },
  {
   "cell_type": "code",
   "execution_count": 3,
   "id": "1f1ef654",
   "metadata": {
    "ExecuteTime": {
     "end_time": "2022-10-25T19:35:45.591133Z",
     "start_time": "2022-10-25T19:35:45.581342Z"
    }
   },
   "outputs": [],
   "source": [
    "classes = []\n",
    "with open('coco.names','r') as f:\n",
    "    classes = f.read().splitlines()"
   ]
  },
  {
   "cell_type": "code",
   "execution_count": 4,
   "id": "382adf59",
   "metadata": {
    "ExecuteTime": {
     "end_time": "2022-10-25T19:35:49.552616Z",
     "start_time": "2022-10-25T19:35:49.512255Z"
    }
   },
   "outputs": [],
   "source": [
    "img = cv2.imread('img.jpg')\n",
    "height,width,_ = img.shape"
   ]
  },
  {
   "cell_type": "code",
   "execution_count": 5,
   "id": "64c1e553",
   "metadata": {
    "ExecuteTime": {
     "end_time": "2022-10-25T19:35:51.598039Z",
     "start_time": "2022-10-25T19:35:51.579826Z"
    }
   },
   "outputs": [],
   "source": [
    "blob = cv2.dnn.blobFromImage(img,1/255,(416,416),(0,0,0),swapRB=True , crop=False)"
   ]
  },
  {
   "cell_type": "code",
   "execution_count": 6,
   "id": "a143b738",
   "metadata": {
    "ExecuteTime": {
     "end_time": "2022-10-25T19:35:53.743597Z",
     "start_time": "2022-10-25T19:35:53.173821Z"
    }
   },
   "outputs": [],
   "source": [
    "net.setInput(blob)\n",
    "output_layers_names=net.getUnconnectedOutLayersNames()\n",
    "layersOutputs = net.forward(output_layers_names)"
   ]
  },
  {
   "cell_type": "code",
   "execution_count": 7,
   "id": "3d33ca3f",
   "metadata": {
    "ExecuteTime": {
     "end_time": "2022-10-25T19:35:53.862717Z",
     "start_time": "2022-10-25T19:35:53.852412Z"
    }
   },
   "outputs": [],
   "source": [
    "boxes=[]\n",
    "confidences = []\n",
    "class_ids = []"
   ]
  },
  {
   "cell_type": "code",
   "execution_count": 8,
   "id": "dcbd5eec",
   "metadata": {
    "ExecuteTime": {
     "end_time": "2022-10-25T19:35:56.760159Z",
     "start_time": "2022-10-25T19:35:56.662841Z"
    }
   },
   "outputs": [],
   "source": [
    "for output in layersOutputs:\n",
    "    for detection in output:\n",
    "        scores = detection[5:]\n",
    "        class_id = np.argmax(scores)\n",
    "        confidence = scores[class_id]\n",
    "        if confidence > 0.5:\n",
    "            x_center = int(detection[0]*width)\n",
    "            y_center = int(detection[1]*height)\n",
    "            w = int(detection[2]*width)\n",
    "            h = int(detection[3]*height)  \n",
    "            \n",
    "            x = int(x_center - w/2)\n",
    "            y = int(y_center - h/2)    \n",
    "            \n",
    "            boxes.append([x,y,w,h])\n",
    "            confidences.append(float(confidence))\n",
    "            class_ids.append(class_id)\n",
    "            \n",
    "indexes = cv2.dnn.NMSBoxes(boxes,confidences,0.5,0.4)\n",
    "font = cv2.FONT_HERSHEY_PLAIN\n",
    "colors = np.random.uniform(0,255,size=(len(boxes),3))\n",
    "\n",
    "for i in indexes.flatten():\n",
    "    x,y,w,h = boxes[i]\n",
    "    label = str(classes[class_ids[i]])\n",
    "    confidence = str(round(confidences[i],2))\n",
    "    color = colors[i]\n",
    "    \n",
    "    cv2.rectangle(img, (x,y), (x+w, y+h), color, 2)\n",
    "    cv2.putText(img, label + \" \" + confidence, (x, y+20), font, 2, (255,255,255), 2)"
   ]
  },
  {
   "cell_type": "code",
   "execution_count": 9,
   "id": "ac6d3f60",
   "metadata": {
    "ExecuteTime": {
     "end_time": "2022-10-25T19:36:02.423823Z",
     "start_time": "2022-10-25T19:35:58.077813Z"
    }
   },
   "outputs": [],
   "source": [
    "cv2.imshow(\"image\",img)\n",
    "cv2.waitKey(0)\n",
    "cv2.destroyAllWindows()"
   ]
  }
 ],
 "metadata": {
  "kernelspec": {
   "display_name": "Python 3 (ipykernel)",
   "language": "python",
   "name": "python3"
  },
  "language_info": {
   "codemirror_mode": {
    "name": "ipython",
    "version": 3
   },
   "file_extension": ".py",
   "mimetype": "text/x-python",
   "name": "python",
   "nbconvert_exporter": "python",
   "pygments_lexer": "ipython3",
   "version": "3.9.7"
  }
 },
 "nbformat": 4,
 "nbformat_minor": 5
}
